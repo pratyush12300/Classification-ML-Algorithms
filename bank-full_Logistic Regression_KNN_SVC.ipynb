{
 "cells": [
  {
   "cell_type": "code",
   "execution_count": 1,
   "metadata": {},
   "outputs": [],
   "source": [
    "import pandas as pd\n",
    "import numpy as np\n",
    "import warnings\n",
    "from sklearn.model_selection import train_test_split\n",
    "from sklearn.linear_model import LogisticRegression\n",
    "from sklearn.neighbors import KNeighborsClassifier\n",
    "from sklearn.metrics import confusion_matrix\n",
    "from sklearn.metrics import classification_report\n",
    "from sklearn import svm"
   ]
  },
  {
   "cell_type": "code",
   "execution_count": 2,
   "metadata": {},
   "outputs": [
    {
     "data": {
      "text/html": [
       "<div>\n",
       "<style scoped>\n",
       "    .dataframe tbody tr th:only-of-type {\n",
       "        vertical-align: middle;\n",
       "    }\n",
       "\n",
       "    .dataframe tbody tr th {\n",
       "        vertical-align: top;\n",
       "    }\n",
       "\n",
       "    .dataframe thead th {\n",
       "        text-align: right;\n",
       "    }\n",
       "</style>\n",
       "<table border=\"1\" class=\"dataframe\">\n",
       "  <thead>\n",
       "    <tr style=\"text-align: right;\">\n",
       "      <th></th>\n",
       "      <th>age</th>\n",
       "      <th>job</th>\n",
       "      <th>marital</th>\n",
       "      <th>education</th>\n",
       "      <th>default</th>\n",
       "      <th>balance</th>\n",
       "      <th>housing</th>\n",
       "      <th>loan</th>\n",
       "      <th>contact</th>\n",
       "      <th>day</th>\n",
       "      <th>month</th>\n",
       "      <th>duration</th>\n",
       "      <th>campaign</th>\n",
       "      <th>pdays</th>\n",
       "      <th>previous</th>\n",
       "      <th>poutcome</th>\n",
       "      <th>y</th>\n",
       "    </tr>\n",
       "  </thead>\n",
       "  <tbody>\n",
       "    <tr>\n",
       "      <th>0</th>\n",
       "      <td>58</td>\n",
       "      <td>management</td>\n",
       "      <td>married</td>\n",
       "      <td>tertiary</td>\n",
       "      <td>no</td>\n",
       "      <td>2143</td>\n",
       "      <td>yes</td>\n",
       "      <td>no</td>\n",
       "      <td>unknown</td>\n",
       "      <td>5</td>\n",
       "      <td>may</td>\n",
       "      <td>261</td>\n",
       "      <td>1</td>\n",
       "      <td>-1</td>\n",
       "      <td>0</td>\n",
       "      <td>unknown</td>\n",
       "      <td>no</td>\n",
       "    </tr>\n",
       "    <tr>\n",
       "      <th>1</th>\n",
       "      <td>44</td>\n",
       "      <td>technician</td>\n",
       "      <td>single</td>\n",
       "      <td>secondary</td>\n",
       "      <td>no</td>\n",
       "      <td>29</td>\n",
       "      <td>yes</td>\n",
       "      <td>no</td>\n",
       "      <td>unknown</td>\n",
       "      <td>5</td>\n",
       "      <td>may</td>\n",
       "      <td>151</td>\n",
       "      <td>1</td>\n",
       "      <td>-1</td>\n",
       "      <td>0</td>\n",
       "      <td>unknown</td>\n",
       "      <td>no</td>\n",
       "    </tr>\n",
       "    <tr>\n",
       "      <th>2</th>\n",
       "      <td>33</td>\n",
       "      <td>entrepreneur</td>\n",
       "      <td>married</td>\n",
       "      <td>secondary</td>\n",
       "      <td>no</td>\n",
       "      <td>2</td>\n",
       "      <td>yes</td>\n",
       "      <td>yes</td>\n",
       "      <td>unknown</td>\n",
       "      <td>5</td>\n",
       "      <td>may</td>\n",
       "      <td>76</td>\n",
       "      <td>1</td>\n",
       "      <td>-1</td>\n",
       "      <td>0</td>\n",
       "      <td>unknown</td>\n",
       "      <td>no</td>\n",
       "    </tr>\n",
       "    <tr>\n",
       "      <th>3</th>\n",
       "      <td>47</td>\n",
       "      <td>blue-collar</td>\n",
       "      <td>married</td>\n",
       "      <td>unknown</td>\n",
       "      <td>no</td>\n",
       "      <td>1506</td>\n",
       "      <td>yes</td>\n",
       "      <td>no</td>\n",
       "      <td>unknown</td>\n",
       "      <td>5</td>\n",
       "      <td>may</td>\n",
       "      <td>92</td>\n",
       "      <td>1</td>\n",
       "      <td>-1</td>\n",
       "      <td>0</td>\n",
       "      <td>unknown</td>\n",
       "      <td>no</td>\n",
       "    </tr>\n",
       "    <tr>\n",
       "      <th>4</th>\n",
       "      <td>33</td>\n",
       "      <td>unknown</td>\n",
       "      <td>single</td>\n",
       "      <td>unknown</td>\n",
       "      <td>no</td>\n",
       "      <td>1</td>\n",
       "      <td>no</td>\n",
       "      <td>no</td>\n",
       "      <td>unknown</td>\n",
       "      <td>5</td>\n",
       "      <td>may</td>\n",
       "      <td>198</td>\n",
       "      <td>1</td>\n",
       "      <td>-1</td>\n",
       "      <td>0</td>\n",
       "      <td>unknown</td>\n",
       "      <td>no</td>\n",
       "    </tr>\n",
       "  </tbody>\n",
       "</table>\n",
       "</div>"
      ],
      "text/plain": [
       "   age           job  marital  education default  balance housing loan  \\\n",
       "0   58    management  married   tertiary      no     2143     yes   no   \n",
       "1   44    technician   single  secondary      no       29     yes   no   \n",
       "2   33  entrepreneur  married  secondary      no        2     yes  yes   \n",
       "3   47   blue-collar  married    unknown      no     1506     yes   no   \n",
       "4   33       unknown   single    unknown      no        1      no   no   \n",
       "\n",
       "   contact  day month  duration  campaign  pdays  previous poutcome   y  \n",
       "0  unknown    5   may       261         1     -1         0  unknown  no  \n",
       "1  unknown    5   may       151         1     -1         0  unknown  no  \n",
       "2  unknown    5   may        76         1     -1         0  unknown  no  \n",
       "3  unknown    5   may        92         1     -1         0  unknown  no  \n",
       "4  unknown    5   may       198         1     -1         0  unknown  no  "
      ]
     },
     "execution_count": 2,
     "metadata": {},
     "output_type": "execute_result"
    }
   ],
   "source": [
    "#Loading the data\n",
    "data=pd.read_csv('F:/IMP.DATA/Documents/FlippNation/r/Data (1)/Data/bank-full.csv',sep=';')\n",
    "data.head(5)"
   ]
  },
  {
   "cell_type": "code",
   "execution_count": 3,
   "metadata": {},
   "outputs": [
    {
     "data": {
      "text/html": [
       "<div>\n",
       "<style scoped>\n",
       "    .dataframe tbody tr th:only-of-type {\n",
       "        vertical-align: middle;\n",
       "    }\n",
       "\n",
       "    .dataframe tbody tr th {\n",
       "        vertical-align: top;\n",
       "    }\n",
       "\n",
       "    .dataframe thead th {\n",
       "        text-align: right;\n",
       "    }\n",
       "</style>\n",
       "<table border=\"1\" class=\"dataframe\">\n",
       "  <thead>\n",
       "    <tr style=\"text-align: right;\">\n",
       "      <th></th>\n",
       "      <th>age</th>\n",
       "      <th>job</th>\n",
       "      <th>marital</th>\n",
       "      <th>education</th>\n",
       "      <th>default</th>\n",
       "      <th>balance</th>\n",
       "      <th>housing</th>\n",
       "      <th>loan</th>\n",
       "      <th>contact</th>\n",
       "      <th>day</th>\n",
       "      <th>month</th>\n",
       "      <th>duration</th>\n",
       "      <th>campaign</th>\n",
       "      <th>pdays</th>\n",
       "      <th>previous</th>\n",
       "      <th>poutcome</th>\n",
       "      <th>y</th>\n",
       "    </tr>\n",
       "  </thead>\n",
       "  <tbody>\n",
       "    <tr>\n",
       "      <th>0</th>\n",
       "      <td>58</td>\n",
       "      <td>management</td>\n",
       "      <td>married</td>\n",
       "      <td>tertiary</td>\n",
       "      <td>0</td>\n",
       "      <td>2143</td>\n",
       "      <td>1</td>\n",
       "      <td>0</td>\n",
       "      <td>unknown</td>\n",
       "      <td>5</td>\n",
       "      <td>may</td>\n",
       "      <td>261</td>\n",
       "      <td>1</td>\n",
       "      <td>-1</td>\n",
       "      <td>0</td>\n",
       "      <td>unknown</td>\n",
       "      <td>0</td>\n",
       "    </tr>\n",
       "    <tr>\n",
       "      <th>1</th>\n",
       "      <td>44</td>\n",
       "      <td>technician</td>\n",
       "      <td>single</td>\n",
       "      <td>secondary</td>\n",
       "      <td>0</td>\n",
       "      <td>29</td>\n",
       "      <td>1</td>\n",
       "      <td>0</td>\n",
       "      <td>unknown</td>\n",
       "      <td>5</td>\n",
       "      <td>may</td>\n",
       "      <td>151</td>\n",
       "      <td>1</td>\n",
       "      <td>-1</td>\n",
       "      <td>0</td>\n",
       "      <td>unknown</td>\n",
       "      <td>0</td>\n",
       "    </tr>\n",
       "    <tr>\n",
       "      <th>2</th>\n",
       "      <td>33</td>\n",
       "      <td>entrepreneur</td>\n",
       "      <td>married</td>\n",
       "      <td>secondary</td>\n",
       "      <td>0</td>\n",
       "      <td>2</td>\n",
       "      <td>1</td>\n",
       "      <td>1</td>\n",
       "      <td>unknown</td>\n",
       "      <td>5</td>\n",
       "      <td>may</td>\n",
       "      <td>76</td>\n",
       "      <td>1</td>\n",
       "      <td>-1</td>\n",
       "      <td>0</td>\n",
       "      <td>unknown</td>\n",
       "      <td>0</td>\n",
       "    </tr>\n",
       "    <tr>\n",
       "      <th>3</th>\n",
       "      <td>47</td>\n",
       "      <td>blue-collar</td>\n",
       "      <td>married</td>\n",
       "      <td>unknown</td>\n",
       "      <td>0</td>\n",
       "      <td>1506</td>\n",
       "      <td>1</td>\n",
       "      <td>0</td>\n",
       "      <td>unknown</td>\n",
       "      <td>5</td>\n",
       "      <td>may</td>\n",
       "      <td>92</td>\n",
       "      <td>1</td>\n",
       "      <td>-1</td>\n",
       "      <td>0</td>\n",
       "      <td>unknown</td>\n",
       "      <td>0</td>\n",
       "    </tr>\n",
       "    <tr>\n",
       "      <th>4</th>\n",
       "      <td>33</td>\n",
       "      <td>unknown</td>\n",
       "      <td>single</td>\n",
       "      <td>unknown</td>\n",
       "      <td>0</td>\n",
       "      <td>1</td>\n",
       "      <td>0</td>\n",
       "      <td>0</td>\n",
       "      <td>unknown</td>\n",
       "      <td>5</td>\n",
       "      <td>may</td>\n",
       "      <td>198</td>\n",
       "      <td>1</td>\n",
       "      <td>-1</td>\n",
       "      <td>0</td>\n",
       "      <td>unknown</td>\n",
       "      <td>0</td>\n",
       "    </tr>\n",
       "  </tbody>\n",
       "</table>\n",
       "</div>"
      ],
      "text/plain": [
       "   age           job  marital  education  default  balance  housing  loan  \\\n",
       "0   58    management  married   tertiary        0     2143        1     0   \n",
       "1   44    technician   single  secondary        0       29        1     0   \n",
       "2   33  entrepreneur  married  secondary        0        2        1     1   \n",
       "3   47   blue-collar  married    unknown        0     1506        1     0   \n",
       "4   33       unknown   single    unknown        0        1        0     0   \n",
       "\n",
       "   contact  day month  duration  campaign  pdays  previous poutcome  y  \n",
       "0  unknown    5   may       261         1     -1         0  unknown  0  \n",
       "1  unknown    5   may       151         1     -1         0  unknown  0  \n",
       "2  unknown    5   may        76         1     -1         0  unknown  0  \n",
       "3  unknown    5   may        92         1     -1         0  unknown  0  \n",
       "4  unknown    5   may       198         1     -1         0  unknown  0  "
      ]
     },
     "execution_count": 3,
     "metadata": {},
     "output_type": "execute_result"
    }
   ],
   "source": [
    "#Converting the format of Output Variable from Strings to Numeric\n",
    "# \n",
    "data.y.replace(('yes','no'),(1,0),inplace=True)\n",
    "data.default.replace(('yes','no'),(1,0),inplace=True)\n",
    "data.housing.replace(('yes','no'),(1,0),inplace=True)\n",
    "data.loan.replace(('yes','no'),(1,0),inplace=True)\n",
    "\n",
    "data.head(5)"
   ]
  },
  {
   "cell_type": "code",
   "execution_count": 4,
   "metadata": {},
   "outputs": [
    {
     "name": "stdout",
     "output_type": "stream",
     "text": [
      "<class 'pandas.core.frame.DataFrame'>\n",
      "RangeIndex: 45211 entries, 0 to 45210\n",
      "Data columns (total 55 columns):\n",
      "failure          45211 non-null uint8\n",
      "other            45211 non-null uint8\n",
      "success          45211 non-null uint8\n",
      "unknown          45211 non-null uint8\n",
      "apr              45211 non-null uint8\n",
      "aug              45211 non-null uint8\n",
      "dec              45211 non-null uint8\n",
      "feb              45211 non-null uint8\n",
      "jan              45211 non-null uint8\n",
      "jul              45211 non-null uint8\n",
      "jun              45211 non-null uint8\n",
      "mar              45211 non-null uint8\n",
      "may              45211 non-null uint8\n",
      "nov              45211 non-null uint8\n",
      "oct              45211 non-null uint8\n",
      "sep              45211 non-null uint8\n",
      "cellular         45211 non-null uint8\n",
      "telephone        45211 non-null uint8\n",
      "unknown          45211 non-null uint8\n",
      "primary          45211 non-null uint8\n",
      "secondary        45211 non-null uint8\n",
      "tertiary         45211 non-null uint8\n",
      "unknown          45211 non-null uint8\n",
      "divorced         45211 non-null uint8\n",
      "married          45211 non-null uint8\n",
      "single           45211 non-null uint8\n",
      "admin.           45211 non-null uint8\n",
      "blue-collar      45211 non-null uint8\n",
      "entrepreneur     45211 non-null uint8\n",
      "housemaid        45211 non-null uint8\n",
      "management       45211 non-null uint8\n",
      "retired          45211 non-null uint8\n",
      "self-employed    45211 non-null uint8\n",
      "services         45211 non-null uint8\n",
      "student          45211 non-null uint8\n",
      "technician       45211 non-null uint8\n",
      "unemployed       45211 non-null uint8\n",
      "unknown          45211 non-null uint8\n",
      "age              45211 non-null int64\n",
      "job              45211 non-null object\n",
      "marital          45211 non-null object\n",
      "education        45211 non-null object\n",
      "default          45211 non-null int64\n",
      "balance          45211 non-null int64\n",
      "housing          45211 non-null int64\n",
      "loan             45211 non-null int64\n",
      "contact          45211 non-null object\n",
      "day              45211 non-null int64\n",
      "month            45211 non-null object\n",
      "duration         45211 non-null int64\n",
      "campaign         45211 non-null int64\n",
      "pdays            45211 non-null int64\n",
      "previous         45211 non-null int64\n",
      "poutcome         45211 non-null object\n",
      "y                45211 non-null int64\n",
      "dtypes: int64(11), object(6), uint8(38)\n",
      "memory usage: 7.5+ MB\n"
     ]
    }
   ],
   "source": [
    "#Concatenating the dummy variables for the feature job with several levels and the original dataset \n",
    "data12=pd.concat([pd.get_dummies(data.job),data.iloc[:,0:17]],axis=1)\n",
    "#Concatenating the dummy variables for the feature marital with three levels and the modified dataset (data12)\n",
    "data13=pd.concat([pd.get_dummies(data12.marital),data12.iloc[:,0:29]],axis=1)\n",
    "#Concatenating the dummy variables for the feature education with four levels and the modified dataset (data13)\n",
    "data14=pd.concat([pd.get_dummies(data13.education),data13.iloc[:,0:32]],axis=1)\n",
    "#Concatenating the dummy variables for the feature contact with three levels and the modified dataset (data14)\n",
    "data15=pd.concat([pd.get_dummies(data14.contact),data14.iloc[:,0:36]],axis=1)\n",
    "#Concatenating the dummy variables for the feature month with twelve levels and the modified dataset (data15)\n",
    "data16=pd.concat([pd.get_dummies(data15.month),data15.iloc[:,0:39]],axis=1)\n",
    "#Concatenating the dummy variables for the feature poutcome with four levels and the modified dataset (data15)\n",
    "data17=pd.concat([pd.get_dummies(data16.poutcome),data16.iloc[:,0:51]],axis=1)\n",
    "data17.info()\n"
   ]
  },
  {
   "cell_type": "code",
   "execution_count": 5,
   "metadata": {},
   "outputs": [
    {
     "data": {
      "text/plain": [
       "array([[  0,   0,   0, ...,   1,  -1,   0],\n",
       "       [  0,   0,   0, ...,   1,  -1,   0],\n",
       "       [  0,   0,   0, ...,   1,  -1,   0],\n",
       "       ...,\n",
       "       [  0,   0,   1, ...,   5, 184,   3],\n",
       "       [  0,   0,   0, ...,   4,  -1,   0],\n",
       "       [  0,   1,   0, ...,   2, 188,  11]], dtype=int64)"
      ]
     },
     "execution_count": 5,
     "metadata": {},
     "output_type": "execute_result"
    }
   ],
   "source": [
    "#Final Features (Numerical)\n",
    "#Removing the duplicacy by dropping the original factor variables \n",
    "#converting the data to an array using .values to make the features compatible with the Logistic Regression\n",
    "#model\n",
    "features=data17.iloc[:,[0,1,2,3,4,5,6,7,8,9,10,11,12,13,14,15,16,17,18,19,20,21,22,23,24,25,26,27,28,29,30,31,32,33,34,35,36,37,38,42,43,44,45,47,49,50,51,52]]\n",
    "features.values"
   ]
  },
  {
   "cell_type": "code",
   "execution_count": 6,
   "metadata": {},
   "outputs": [
    {
     "data": {
      "text/plain": [
       "0        0\n",
       "1        0\n",
       "2        0\n",
       "3        0\n",
       "4        0\n",
       "5        0\n",
       "6        0\n",
       "7        0\n",
       "8        0\n",
       "9        0\n",
       "10       0\n",
       "11       0\n",
       "12       0\n",
       "13       0\n",
       "14       0\n",
       "15       0\n",
       "16       0\n",
       "17       0\n",
       "18       0\n",
       "19       0\n",
       "20       0\n",
       "21       0\n",
       "22       0\n",
       "23       0\n",
       "24       0\n",
       "25       0\n",
       "26       0\n",
       "27       0\n",
       "28       0\n",
       "29       0\n",
       "        ..\n",
       "45181    0\n",
       "45182    1\n",
       "45183    0\n",
       "45184    0\n",
       "45185    1\n",
       "45186    0\n",
       "45187    1\n",
       "45188    1\n",
       "45189    0\n",
       "45190    1\n",
       "45191    1\n",
       "45192    1\n",
       "45193    1\n",
       "45194    0\n",
       "45195    1\n",
       "45196    1\n",
       "45197    1\n",
       "45198    0\n",
       "45199    0\n",
       "45200    1\n",
       "45201    1\n",
       "45202    1\n",
       "45203    1\n",
       "45204    1\n",
       "45205    1\n",
       "45206    1\n",
       "45207    1\n",
       "45208    1\n",
       "45209    0\n",
       "45210    0\n",
       "Name: y, Length: 45211, dtype: int64"
      ]
     },
     "execution_count": 6,
     "metadata": {},
     "output_type": "execute_result"
    }
   ],
   "source": [
    "#Create features and labels\n",
    "#For classification, features must be n(d) array and label must be 1d array\n",
    "\n",
    "#Label\n",
    "label=data17.y\n",
    "label"
   ]
  },
  {
   "cell_type": "code",
   "execution_count": 7,
   "metadata": {},
   "outputs": [
    {
     "name": "stdout",
     "output_type": "stream",
     "text": [
      "Test Score:0.9023554130266505 Train Score:0.901542800265428 Random State:2\n",
      "Test Score:0.9029083268826716 Train Score:0.9011833665118336 Random State:3\n",
      "Test Score:0.9030189096538759 Train Score:0.9017639902676399 Random State:4\n",
      "Test Score:0.9043459029083268 Train Score:0.9012386640123866 Random State:5\n",
      "Test Score:0.9092115448413137 Train Score:0.8998009289980093 Random State:7\n"
     ]
    }
   ],
   "source": [
    "\n",
    "#Making a for loop where the data is split in train/test to cross validate the logistic model that we create \n",
    "#As well as Generalization of the Model to get a test score higher than the train score\n",
    "\n",
    "warnings.filterwarnings(\"ignore\")\n",
    "for i in range (0,10):\n",
    "    X_train,X_test,Y_train,Y_test=train_test_split(features,\n",
    "                                                  label,\n",
    "                                                  test_size=0.2,\n",
    "                                                  random_state=i)\n",
    "    model = LogisticRegression()\n",
    "    model.fit(X_train,Y_train)\n",
    "    \n",
    "    train_score=model.score(X_train,Y_train)\n",
    "    test_score=model.score(X_test,Y_test)\n",
    "    \n",
    "    if test_score>train_score:\n",
    "        print(\"Test Score:{} Train Score:{} Random State:{}\".format(test_score,train_score,i))"
   ]
  },
  {
   "cell_type": "code",
   "execution_count": 8,
   "metadata": {},
   "outputs": [],
   "source": [
    "#The random state 7 is giving the highest generalization\n",
    "#Train Test Split for the model\n",
    "X_train, X_test, y_train, y_test = train_test_split(features,\n",
    "                                                   label,\n",
    "                                                   test_size=0.2,\n",
    "                                                   random_state=7)"
   ]
  },
  {
   "cell_type": "code",
   "execution_count": 9,
   "metadata": {},
   "outputs": [
    {
     "data": {
      "text/plain": [
       "LogisticRegression(C=1.0, class_weight=None, dual=False, fit_intercept=True,\n",
       "          intercept_scaling=1, max_iter=100, multi_class='warn',\n",
       "          n_jobs=None, penalty='l2', random_state=None, solver='warn',\n",
       "          tol=0.0001, verbose=0, warm_start=False)"
      ]
     },
     "execution_count": 9,
     "metadata": {},
     "output_type": "execute_result"
    }
   ],
   "source": [
    "#Implement Linear Regression\n",
    "model = LogisticRegression()\n",
    "model.fit(X_train,y_train)"
   ]
  },
  {
   "cell_type": "code",
   "execution_count": 10,
   "metadata": {},
   "outputs": [
    {
     "data": {
      "text/plain": [
       "0    39922\n",
       "1     5289\n",
       "Name: y, dtype: int64"
      ]
     },
     "execution_count": 10,
     "metadata": {},
     "output_type": "execute_result"
    }
   ],
   "source": [
    "data.y.value_counts()"
   ]
  },
  {
   "cell_type": "code",
   "execution_count": 11,
   "metadata": {},
   "outputs": [
    {
     "data": {
      "text/plain": [
       "array([[38967,   955],\n",
       "       [ 3490,  1799]])"
      ]
     },
     "execution_count": 11,
     "metadata": {},
     "output_type": "execute_result"
    }
   ],
   "source": [
    "#The confusion Matrix for the Classification Model that we built\n",
    "#Total Predicted Yes (0's) and (1's) are 42393 and 2818\n",
    "# The Precision of the model,total number of correctly predicted (0's) are 38945 out of 42393(92.0 %)\n",
    "# The Precision of the model,total number of correctly predicted (1's) are 1841 out of 2818(65.33 %)\n",
    "#Total Actual Yes (0's) and (1's) are 39922 and 5289\n",
    "# So the TPR/Recall/Sensitivity (0's) accurately predicted are 38945 out of 39922(97.55%)(Did not subscribe to the term deposit)\n",
    "# the TNR/Specificity (1's) accurately predicted are 1841 out of 5289(34.80%)(Subscribed to the term deposit)\n",
    "# Sensitivity  of 0 is 0.98 and Specificity of 1 is 0.35 \n",
    "\n",
    "cm = confusion_matrix(label,model.predict(features))\n",
    "cm"
   ]
  },
  {
   "cell_type": "code",
   "execution_count": 12,
   "metadata": {},
   "outputs": [
    {
     "name": "stdout",
     "output_type": "stream",
     "text": [
      "              precision    recall  f1-score   support\n",
      "\n",
      "           0       0.92      0.98      0.95     39922\n",
      "           1       0.65      0.34      0.45      5289\n",
      "\n",
      "   micro avg       0.90      0.90      0.90     45211\n",
      "   macro avg       0.79      0.66      0.70     45211\n",
      "weighted avg       0.89      0.90      0.89     45211\n",
      "\n"
     ]
    }
   ],
   "source": [
    "#From the classification report below \n",
    "#The accuracy of the model is 90 percent \n",
    "\n",
    "#print(classification_report())\n",
    "print(classification_report(label,model.predict(features)))"
   ]
  },
  {
   "cell_type": "markdown",
   "metadata": {},
   "source": [
    "##KNN Classifier"
   ]
  },
  {
   "cell_type": "code",
   "execution_count": 13,
   "metadata": {},
   "outputs": [
    {
     "name": "stdout",
     "output_type": "stream",
     "text": [
      "Test Score:0.9033506579674887 Train Score:0.9012663127626631 Random State:2\n",
      "Test Score:0.9035718235098972 Train Score:0.9012110152621101 Random State:3\n",
      "Test Score:0.9033506579674887 Train Score:0.9012663127626631 Random State:4\n",
      "Test Score:0.9039035718235099 Train Score:0.9011280690112807 Random State:5\n",
      "Test Score:0.9092115448413137 Train Score:0.8998009289980093 Random State:7\n",
      "Test Score:0.9039035718235099 Train Score:0.9011280690112807 Random State:12\n",
      "Test Score:0.9023554130266505 Train Score:0.9015151515151515 Random State:14\n",
      "Test Score:0.9020236647130377 Train Score:0.901598097765981 Random State:15\n",
      "Test Score:0.9045670684507354 Train Score:0.9009621765096217 Random State:18\n",
      "Test Score:0.9065575583324118 Train Score:0.900464499004645 Random State:20\n",
      "Test Score:0.9044564856795311 Train Score:0.9009898252598982 Random State:24\n",
      "Test Score:0.9022448302554462 Train Score:0.901542800265428 Random State:25\n",
      "Test Score:0.9022448302554462 Train Score:0.901542800265428 Random State:26\n",
      "Test Score:0.9019130819418335 Train Score:0.9016257465162575 Random State:27\n",
      "Test Score:0.9033506579674887 Train Score:0.9012663127626631 Random State:28\n",
      "Test Score:0.9051199823067566 Train Score:0.9008239327582394 Random State:29\n",
      "Test Score:0.9016919163994249 Train Score:0.9016810440168105 Random State:31\n",
      "Test Score:0.9047882339931439 Train Score:0.9009068790090687 Random State:34\n",
      "Test Score:0.9034612407386929 Train Score:0.9012386640123866 Random State:35\n",
      "Test Score:0.9030189096538759 Train Score:0.9013492590134926 Random State:36\n",
      "Test Score:0.9041247373659184 Train Score:0.9010727715107277 Random State:38\n",
      "Test Score:0.9040141545947141 Train Score:0.9011004202610042 Random State:44\n",
      "Test Score:0.9034612407386929 Train Score:0.9012386640123866 Random State:45\n",
      "Test Score:0.9037929890523057 Train Score:0.9011557177615572 Random State:47\n",
      "Test Score:0.9042353201371226 Train Score:0.9010451227604512 Random State:50\n",
      "Test Score:0.9045670684507354 Train Score:0.9009621765096217 Random State:53\n",
      "Test Score:0.9043459029083268 Train Score:0.9010174740101747 Random State:54\n",
      "Test Score:0.9048988167643481 Train Score:0.9008792302587924 Random State:60\n",
      "Test Score:0.9083268826716797 Train Score:0.9000221190002212 Random State:61\n",
      "Test Score:0.9067787238748203 Train Score:0.900409201504092 Random State:64\n",
      "Test Score:0.9018024991706293 Train Score:0.901653395266534 Random State:65\n",
      "Test Score:0.9039035718235099 Train Score:0.9011280690112807 Random State:67\n",
      "Test Score:0.9023554130266505 Train Score:0.9015151515151515 Random State:69\n",
      "Test Score:0.9031294924250802 Train Score:0.9013216102632161 Random State:70\n",
      "Test Score:0.9025765785690589 Train Score:0.9014598540145985 Random State:71\n",
      "Test Score:0.9024659957978547 Train Score:0.901487502764875 Random State:74\n",
      "Test Score:0.9034612407386929 Train Score:0.9012386640123866 Random State:75\n",
      "Test Score:0.9046776512219397 Train Score:0.9009345277593452 Random State:78\n",
      "Test Score:0.9026871613402632 Train Score:0.9014322052643221 Random State:82\n",
      "Test Score:0.9041247373659184 Train Score:0.9010727715107277 Random State:85\n",
      "Test Score:0.9023554130266505 Train Score:0.9015151515151515 Random State:86\n",
      "Test Score:0.9040141545947141 Train Score:0.9011004202610042 Random State:88\n",
      "Test Score:0.9023554130266505 Train Score:0.9015151515151515 Random State:89\n",
      "Test Score:0.9024659957978547 Train Score:0.901487502764875 Random State:92\n",
      "Test Score:0.9047882339931439 Train Score:0.9009068790090687 Random State:95\n",
      "Test Score:0.9025765785690589 Train Score:0.9014598540145985 Random State:97\n",
      "Test Score:0.9034612407386929 Train Score:0.9012386640123866 Random State:98\n",
      "Test Score:0.9055623133915736 Train Score:0.9007133377571334 Random State:99\n"
     ]
    }
   ],
   "source": [
    "\n",
    "#Making a for loop where the data is split in train/test to cross validate the logistic model that we create \n",
    "#As well as Generalization of the Model to get a test score higher than the train score\n",
    "\n",
    "warnings.filterwarnings(\"ignore\")\n",
    "for i in range (0,100):\n",
    "    X_train,X_test,Y_train,Y_test=train_test_split(features,\n",
    "                                                  label,\n",
    "                                                  test_size=0.2,\n",
    "                                                  random_state=i)\n",
    "    clasifier = KNeighborsClassifier(n_neighbors=2)\n",
    "    clasifier.fit(X_train,Y_train)\n",
    "    \n",
    "    train_score=model.score(X_train,Y_train)\n",
    "    test_score=model.score(X_test,Y_test)\n",
    "    \n",
    "    if test_score>train_score:\n",
    "        print(\"Test Score:{} Train Score:{} Random State:{}\".format(test_score,train_score,i))"
   ]
  },
  {
   "cell_type": "code",
   "execution_count": 14,
   "metadata": {},
   "outputs": [
    {
     "data": {
      "text/plain": [
       "KNeighborsClassifier(algorithm='auto', leaf_size=30, metric='minkowski',\n",
       "           metric_params=None, n_jobs=None, n_neighbors=2, p=2,\n",
       "           weights='uniform')"
      ]
     },
     "execution_count": 14,
     "metadata": {},
     "output_type": "execute_result"
    }
   ],
   "source": [
    "#Implement KNN \n",
    "#The random state 7 is giving the highest generalization\n",
    "#Train Test Split for the model\n",
    "\n",
    "X_train, X_test, y_train, y_test = train_test_split(features,\n",
    "                                                   label,\n",
    "                                                   test_size=0.2,\n",
    "                                                   random_state=7)\n",
    "clasifier = KNeighborsClassifier(n_neighbors=2)\n",
    "clasifier.fit(X_train,Y_train)\n"
   ]
  },
  {
   "cell_type": "code",
   "execution_count": 15,
   "metadata": {},
   "outputs": [
    {
     "data": {
      "text/plain": [
       "array([[39365,   557],\n",
       "       [ 5220,    69]])"
      ]
     },
     "execution_count": 15,
     "metadata": {},
     "output_type": "execute_result"
    }
   ],
   "source": [
    "#Confusion Matrix\n",
    "cm = confusion_matrix(label,clasifier.predict(features))\n",
    "cm"
   ]
  },
  {
   "cell_type": "code",
   "execution_count": 16,
   "metadata": {},
   "outputs": [
    {
     "name": "stdout",
     "output_type": "stream",
     "text": [
      "              precision    recall  f1-score   support\n",
      "\n",
      "           0       0.88      0.99      0.93     39922\n",
      "           1       0.11      0.01      0.02      5289\n",
      "\n",
      "   micro avg       0.87      0.87      0.87     45211\n",
      "   macro avg       0.50      0.50      0.48     45211\n",
      "weighted avg       0.79      0.87      0.83     45211\n",
      "\n"
     ]
    }
   ],
   "source": [
    "\n",
    "#print classification_report\n",
    "print(classification_report(label,clasifier.predict(features)))"
   ]
  },
  {
   "cell_type": "code",
   "execution_count": 8,
   "metadata": {},
   "outputs": [],
   "source": [
    "#Not running a for loop where here as the data is too huge and SVC takes a lot of computational power and time\n",
    "\n",
    "X_train,X_test,Y_train,Y_test=train_test_split(features,\n",
    "                                                  label,\n",
    "                                                  test_size=0.2,\n",
    "                                                  random_state=7)"
   ]
  },
  {
   "cell_type": "code",
   "execution_count": 9,
   "metadata": {},
   "outputs": [
    {
     "name": "stderr",
     "output_type": "stream",
     "text": [
      "C:\\Users\\Admin\\Anaconda3\\lib\\site-packages\\sklearn\\svm\\base.py:193: FutureWarning: The default value of gamma will change from 'auto' to 'scale' in version 0.22 to account better for unscaled features. Set gamma explicitly to 'auto' or 'scale' to avoid this warning.\n",
      "  \"avoid this warning.\", FutureWarning)\n"
     ]
    },
    {
     "data": {
      "text/plain": [
       "SVC(C=1, cache_size=200, class_weight=None, coef0=0.0,\n",
       "    decision_function_shape='ovr', degree=3, gamma='auto_deprecated',\n",
       "    kernel='rbf', max_iter=-1, probability=False, random_state=None,\n",
       "    shrinking=True, tol=0.001, verbose=False)"
      ]
     },
     "execution_count": 9,
     "metadata": {},
     "output_type": "execute_result"
    }
   ],
   "source": [
    "#Model Deployement\n",
    "clf=svm.SVC(C=1, kernel='rbf')\n",
    "clf.fit(X_train,Y_train)"
   ]
  },
  {
   "cell_type": "code",
   "execution_count": 12,
   "metadata": {},
   "outputs": [],
   "source": [
    "\n",
    "train_score=clf.score(X_train,Y_train)\n",
    "test_score=clf.score(X_test,Y_test)"
   ]
  },
  {
   "cell_type": "code",
   "execution_count": 20,
   "metadata": {},
   "outputs": [
    {
     "name": "stdout",
     "output_type": "stream",
     "text": [
      "Test Score:0.9092115448413137 Train Score:0.8998009289980093\n"
     ]
    }
   ],
   "source": [
    "#Generalization Achieved\n",
    "print(\"Test Score:{} Train Score:{}\".format(test_score,train_score))"
   ]
  },
  {
   "cell_type": "code",
   "execution_count": 13,
   "metadata": {},
   "outputs": [
    {
     "data": {
      "text/plain": [
       "array([[39922,     0],\n",
       "       [ 1249,  4040]], dtype=int64)"
      ]
     },
     "execution_count": 13,
     "metadata": {},
     "output_type": "execute_result"
    }
   ],
   "source": [
    "#Confusion Matrix\n",
    "cm = confusion_matrix(label,clf.predict(features))\n",
    "cm"
   ]
  },
  {
   "cell_type": "code",
   "execution_count": 14,
   "metadata": {},
   "outputs": [
    {
     "name": "stdout",
     "output_type": "stream",
     "text": [
      "              precision    recall  f1-score   support\n",
      "\n",
      "           0       0.97      1.00      0.98     39922\n",
      "           1       1.00      0.76      0.87      5289\n",
      "\n",
      "    accuracy                           0.97     45211\n",
      "   macro avg       0.98      0.88      0.93     45211\n",
      "weighted avg       0.97      0.97      0.97     45211\n",
      "\n"
     ]
    }
   ],
   "source": [
    "print(classification_report(label,clf.predict(features)))"
   ]
  }
 ],
 "metadata": {
  "kernelspec": {
   "display_name": "Python 3",
   "language": "python",
   "name": "python3"
  },
  "language_info": {
   "codemirror_mode": {
    "name": "ipython",
    "version": 3
   },
   "file_extension": ".py",
   "mimetype": "text/x-python",
   "name": "python",
   "nbconvert_exporter": "python",
   "pygments_lexer": "ipython3",
   "version": "3.7.3"
  },
  "toc": {
   "base_numbering": 1,
   "nav_menu": {},
   "number_sections": true,
   "sideBar": true,
   "skip_h1_title": false,
   "title_cell": "Table of Contents",
   "title_sidebar": "Contents",
   "toc_cell": false,
   "toc_position": {},
   "toc_section_display": true,
   "toc_window_display": false
  }
 },
 "nbformat": 4,
 "nbformat_minor": 2
}
